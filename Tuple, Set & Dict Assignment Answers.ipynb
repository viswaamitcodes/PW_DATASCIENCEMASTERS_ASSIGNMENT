{
 "cells": [
  {
   "cell_type": "code",
   "execution_count": null,
   "id": "46dd6ebf-2d4f-4b8e-ad1d-6462b6fa413d",
   "metadata": {},
   "outputs": [],
   "source": [
    "Q1. What are the characteristics of the tuples? Is tuple immutable?\n",
    "-> they are ordered\n",
    "-> they can be indexed\n",
    "-> duplicates Allowed\n",
    "\n",
    "Yes, tuples are immutable"
   ]
  },
  {
   "cell_type": "code",
   "execution_count": null,
   "id": "ed68baa3-cad8-4c29-9a2b-58611a5ac45e",
   "metadata": {},
   "outputs": [],
   "source": [
    "Q2. What are the two tuple methods in python? Give an example of each method. Give a reason why\n",
    "tuples have only two in-built methods as compared to Lists.\n",
    "\n",
    "->index() and count()\n",
    "Example:\n",
    "->tupl=(1,2,3,4,5)\n",
    "tupl.count() and tupl.index(3)\n",
    "\n",
    "->the inbuilt methods are limited in tuples because they are immutable.\n",
    "\n"
   ]
  },
  {
   "cell_type": "code",
   "execution_count": null,
   "id": "24fe0a47-9132-4f4e-b497-0df202f09c87",
   "metadata": {},
   "outputs": [],
   "source": [
    "Q3. Which collection datatypes in python do not allow duplicate items? Write a code using a set to remove\n",
    "duplicates from the given list.\n",
    "List = [1, 1, 1, 2, 1, 3, 1, 4, 2, 1, 2, 2, 2, 3, 2, 4, 3, 1, 3, 2, 3, 3, 3, 4, 4, 1, 4, 2, 4, 3, 4, 4]\n",
    "-> set will not allow duplicate items\n",
    "--- code to remove duplicates ---\n",
    "->st=set(List)\n",
    "print(st)\n",
    "\n"
   ]
  },
  {
   "cell_type": "code",
   "execution_count": null,
   "id": "90d9038b-1b22-4348-9dfc-e479abd9e70a",
   "metadata": {},
   "outputs": [],
   "source": [
    "Q4. Explain the difference between the union() and update() methods for a set. Give an example of\n",
    "each method.\n",
    "\n",
    "-> lookwise functionality would be similar but union() method can accept any number of sets, but union takes single argument.\n",
    "example:\n",
    "s={1,2,3}\n",
    "s.union({1,2},{3,4})\n",
    "s.update({6,7})\n",
    "   "
   ]
  },
  {
   "cell_type": "code",
   "execution_count": null,
   "id": "bd6052db-5e83-4ea7-b7c7-b39523b76e9e",
   "metadata": {},
   "outputs": [],
   "source": [
    "Q5. What is a dictionary? Give an example. Also, state whether a dictionary is ordered or unordered.\n",
    "\n",
    "-> dictionary is a collection of key value pairs.\n",
    "-> dictionaries are ordered.\n"
   ]
  },
  {
   "cell_type": "code",
   "execution_count": null,
   "id": "beae79f1-37d3-4c1f-8fae-861c247e33cd",
   "metadata": {},
   "outputs": [],
   "source": [
    "Q6. Can we create a nested dictionary? If so, please give an example by creating a simple one-level\n",
    "nested dictionary.\n",
    "-> we can create nested dictionary\n",
    "example:\n",
    "    dic={1:2,3:{5:6,9:0}}\n"
   ]
  },
  {
   "cell_type": "code",
   "execution_count": null,
   "id": "b88d29ae-d34e-436f-a6d7-39a420b2b624",
   "metadata": {},
   "outputs": [],
   "source": [
    "Q7. Using setdefault() method, create key named topics in the given dictionary and also add the value of\n",
    "the key as this list ['Python', 'Machine Learning’, 'Deep Learning']\n",
    "\n",
    "-> Ans:\n",
    "dict1 = {'language' : 'Python', 'course': 'Data Science Masters'}\n",
    "lis=[\"Python\", \"Machine Learning\",\"Deep Learning\"]\n",
    "dict1.setdefault(\"topics\",lis)"
   ]
  },
  {
   "cell_type": "code",
   "execution_count": null,
   "id": "057765b5-c5fc-4690-8820-9e265cb24b66",
   "metadata": {},
   "outputs": [],
   "source": [
    "Q8. What are the three view objects in dictionaries? Use the three in-built methods in python to display\n",
    "these three view objects for the given dictionary.\n",
    "dict1 = {'Sport': 'Cricket' , 'Teams': ['India', 'Australia', 'England', 'South Africa', 'Sri Lanka', 'New Zealand']}\n",
    "-> view objects are:  keys,values and items\n",
    ".........\n",
    "print(dict1.keys())\n",
    "print(dict1.values())\n",
    "print(dict1.items())"
   ]
  }
 ],
 "metadata": {
  "kernelspec": {
   "display_name": "Python 3 (ipykernel)",
   "language": "python",
   "name": "python3"
  },
  "language_info": {
   "codemirror_mode": {
    "name": "ipython",
    "version": 3
   },
   "file_extension": ".py",
   "mimetype": "text/x-python",
   "name": "python",
   "nbconvert_exporter": "python",
   "pygments_lexer": "ipython3",
   "version": "3.10.8"
  }
 },
 "nbformat": 4,
 "nbformat_minor": 5
}
