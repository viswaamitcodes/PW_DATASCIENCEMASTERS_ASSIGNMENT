{
 "cells": [
  {
   "cell_type": "code",
   "execution_count": null,
   "id": "a2c6dadb-92ee-4b8d-957a-80e0ac6068a1",
   "metadata": {},
   "outputs": [],
   "source": [
    "1ans: computer is an electronic device that is used to store and process information based on the instructions provided usually they store data in binary form.\n",
    "\n"
   ]
  },
  {
   "cell_type": "code",
   "execution_count": null,
   "id": "2e13ea88-e763-4612-8416-32ade00e5389",
   "metadata": {},
   "outputs": [],
   "source": [
    "2ans: RAM is a random access memory, also called as primary memory that temporarily stores data and it is usually volatile.\n",
    "\n",
    "\n"
   ]
  },
  {
   "cell_type": "code",
   "execution_count": null,
   "id": "134d946a-5017-490b-94c2-1e11aa3696a4",
   "metadata": {},
   "outputs": [],
   "source": [
    "3ans:Computer data is stored in secondary memory(hdd/ssd), if it is volatile it is stored in ram.\n",
    "\n"
   ]
  },
  {
   "cell_type": "code",
   "execution_count": null,
   "id": "694b7691-c9ae-4f4c-8e31-9fec4dc5a2db",
   "metadata": {},
   "outputs": [],
   "source": [
    "4ans:keyboard\n",
    "\n"
   ]
  },
  {
   "cell_type": "code",
   "execution_count": null,
   "id": "d33ed0f4-ed78-441d-a597-362b3985c194",
   "metadata": {},
   "outputs": [],
   "source": [
    "5ans:monitor,printer,projector\n",
    "\n"
   ]
  },
  {
   "cell_type": "code",
   "execution_count": null,
   "id": "64d14d1d-baff-46ed-93c6-bed2024d9ff3",
   "metadata": {},
   "outputs": [],
   "source": [
    "6ans:mouse\n",
    "\n"
   ]
  },
  {
   "cell_type": "code",
   "execution_count": null,
   "id": "7ca70d47-a9e1-4968-96be-941200930860",
   "metadata": {},
   "outputs": [],
   "source": [
    "7ans:binary language\n",
    "\n"
   ]
  },
  {
   "cell_type": "code",
   "execution_count": null,
   "id": "75289a15-3382-4b2d-b9fa-04ebda050317",
   "metadata": {},
   "outputs": [],
   "source": [
    "8ans:keyboard,mouse,scanner,etc"
   ]
  }
 ],
 "metadata": {
  "kernelspec": {
   "display_name": "Python 3 (ipykernel)",
   "language": "python",
   "name": "python3"
  },
  "language_info": {
   "codemirror_mode": {
    "name": "ipython",
    "version": 3
   },
   "file_extension": ".py",
   "mimetype": "text/x-python",
   "name": "python",
   "nbconvert_exporter": "python",
   "pygments_lexer": "ipython3",
   "version": "3.10.8"
  }
 },
 "nbformat": 4,
 "nbformat_minor": 5
}
